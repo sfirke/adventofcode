{
 "cells": [
  {
   "cell_type": "code",
   "execution_count": 52,
   "metadata": {},
   "outputs": [
    {
     "data": {
      "text/plain": [
       "966"
      ]
     },
     "execution_count": 52,
     "metadata": {},
     "output_type": "execute_result"
    }
   ],
   "source": [
    "# Part 1\n",
    "\n",
    "sample_dat = [111111, 223450, 123789]\n",
    "\n",
    "def is_good(num):\n",
    "    \n",
    "    # has a double\n",
    "    has_double = ((num[0] == num[1]) | (num[1] == num[2]) |\n",
    "                  (num[2] == num[3]) | (num[3] == num[4]) | (num[4] == num[5]))\n",
    "    \n",
    "    # increases\n",
    "    increases = (num[0] <= num[1]) & (num[1] <= num[2]) & (num[2] <= num[3]) & (num[3] <= num[4]) & (num[4] <= num[5])\n",
    "    \n",
    "    return(has_double & increases)\n",
    "    \n",
    "outs = [is_good(str(i)) for i in sample_dat]\n",
    "outs\n",
    "\n",
    "my_input = range(264793,803935)\n",
    "\n",
    "my_outs = [is_good(str(i)) for i in my_input]\n",
    "sum(my_outs)"
   ]
  },
  {
   "cell_type": "code",
   "execution_count": 53,
   "metadata": {},
   "outputs": [
    {
     "data": {
      "text/plain": [
       "628"
      ]
     },
     "execution_count": 53,
     "metadata": {},
     "output_type": "execute_result"
    }
   ],
   "source": [
    "# Part 2\n",
    "\n",
    "def is_gooder(num):\n",
    "    \n",
    "    # has a double\n",
    "    has_double = ((num[0] == num[1]) & (num[2] != num[1]) |\n",
    "                  (num[1] == num[2]) & (num[0] != num[1]) & (num[3] != num[2]) |\n",
    "                  (num[2] == num[3]) & (num[1] != num[2]) & (num[4] != num[3]) |\n",
    "                  (num[3] == num[4]) & (num[2] != num[3]) & (num[5] != num[4]) |\n",
    "                  (num[4] == num[5]) & (num[3] != num[4]))\n",
    "    \n",
    "    # increases\n",
    "    increases = (num[0] <= num[1]) & (num[1] <= num[2]) & (num[2] <= num[3]) & (num[3] <= num[4]) & (num[4] <= num[5])\n",
    "    \n",
    "    return(has_double & increases)\n",
    "    \n",
    "my_outs_2 = [is_gooder(str(i)) for i in my_input]\n",
    "sum(my_outs_2)\n"
   ]
  },
  {
   "cell_type": "code",
   "execution_count": null,
   "metadata": {},
   "outputs": [],
   "source": []
  }
 ],
 "metadata": {
  "kernelspec": {
   "display_name": "Python 3",
   "language": "python",
   "name": "python3"
  },
  "language_info": {
   "codemirror_mode": {
    "name": "ipython",
    "version": 3
   },
   "file_extension": ".py",
   "mimetype": "text/x-python",
   "name": "python",
   "nbconvert_exporter": "python",
   "pygments_lexer": "ipython3",
   "version": "3.7.3"
  }
 },
 "nbformat": 4,
 "nbformat_minor": 2
}
